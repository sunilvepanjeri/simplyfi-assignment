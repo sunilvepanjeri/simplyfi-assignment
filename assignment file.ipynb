{
 "cells": [
  {
   "cell_type": "code",
   "execution_count": 4,
   "id": "5373983f",
   "metadata": {},
   "outputs": [
    {
     "name": "stdout",
     "output_type": "stream",
     "text": [
      "345667\n",
      "3,54,667\n"
     ]
    }
   ],
   "source": [
    "value=input()\n",
    "if len(value)<=3:\n",
    "    print(value)\n",
    "else:\n",
    "    currency=\"\"\n",
    "    a=\"\"\n",
    "    for i in range(len(value)-3):\n",
    "        a+=value[i]\n",
    "        if len(a)==2:\n",
    "            currency=currency+a+','\n",
    "            a=\"\"\n",
    "    if a:\n",
    "        if currency:\n",
    "            currency=currency[0]+','+a+currency[1:]\n",
    "        else:\n",
    "            currency=a+','\n",
    "    currency+=value[-3:]\n",
    "    print(currency)"
   ]
  },
  {
   "cell_type": "code",
   "execution_count": 2,
   "id": "59f5a08b",
   "metadata": {},
   "outputs": [
    {
     "name": "stdout",
     "output_type": "stream",
     "text": [
      "3\n",
      "4 10\n",
      "enter 4 heights in range 1 and 106\n",
      "2 13 4 16\n",
      "5 8\n",
      "enter 5 heights in range 1 and 106\n",
      "9 3 8 8 4\n",
      "4 6\n",
      "enter 4 heights in range 1 and 106\n",
      "1 2 3 4\n",
      "2\n",
      "1\n",
      "0\n"
     ]
    }
   ],
   "source": [
    "T=int(input())\n",
    "outputs=[]\n",
    "for i in range(T):\n",
    "    N,K=0,0\n",
    "    N,K=map(int,input().split())\n",
    "    print(\"enter\",N,'heights in range 1 and 106')\n",
    "    t=list(map(int,input().split()))\n",
    "    c=0\n",
    "    for r in t:\n",
    "        if r>K:\n",
    "            c+=1 \n",
    "    outputs.append(c)\n",
    "for i in outputs:\n",
    "    print(i)"
   ]
  },
  {
   "cell_type": "code",
   "execution_count": null,
   "id": "f9ca7390",
   "metadata": {},
   "outputs": [],
   "source": []
  }
 ],
 "metadata": {
  "kernelspec": {
   "display_name": "Python 3 (ipykernel)",
   "language": "python",
   "name": "python3"
  },
  "language_info": {
   "codemirror_mode": {
    "name": "ipython",
    "version": 3
   },
   "file_extension": ".py",
   "mimetype": "text/x-python",
   "name": "python",
   "nbconvert_exporter": "python",
   "pygments_lexer": "ipython3",
   "version": "3.11.4"
  }
 },
 "nbformat": 4,
 "nbformat_minor": 5
}
