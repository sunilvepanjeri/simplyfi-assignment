{
 "cells": [
  {
   "cell_type": "code",
   "execution_count": 4,
   "id": "8c7ae57f",
   "metadata": {},
   "outputs": [
    {
     "name": "stdout",
     "output_type": "stream",
     "text": [
      "2000\n",
      "2,000\n"
     ]
    }
   ],
   "source": [
    "value=input()\n",
    "if len(value)<=3:\n",
    "    print(value)\n",
    "else:\n",
    "    currency=\"\"\n",
    "    a=\"\"\n",
    "    for i in range(len(value)-3):\n",
    "        a+=value[i]\n",
    "        if len(a)==2:\n",
    "            currency=currency+a+','\n",
    "            a=\"\"\n",
    "    if a:\n",
    "        currency=a+\",\"+currency\n",
    "    currency+=value[-3:]\n",
    "print(currency)"
   ]
  },
  {
   "cell_type": "code",
   "execution_count": null,
   "id": "34f36dba",
   "metadata": {},
   "outputs": [],
   "source": [
    "T=int(input())\n",
    "for i in range(T):\n",
    "    N,K=0,0\n",
    "    N,K=map(int,input().split())\n",
    "    print(\"enter\",N,'heights')\n",
    "    t=list(map(int,input().split()))\n",
    "    c=0\n",
    "    for r in t:\n",
    "        if r>K:\n",
    "            c+=1 \n",
    "    outputs.append(c)\n",
    "for i in outputs:\n",
    "    print(i)"
   ]
  },
  {
   "cell_type": "code",
   "execution_count": null,
   "id": "cc7f8506",
   "metadata": {},
   "outputs": [],
   "source": []
  }
 ],
 "metadata": {
  "kernelspec": {
   "display_name": "Python 3 (ipykernel)",
   "language": "python",
   "name": "python3"
  },
  "language_info": {
   "codemirror_mode": {
    "name": "ipython",
    "version": 3
   },
   "file_extension": ".py",
   "mimetype": "text/x-python",
   "name": "python",
   "nbconvert_exporter": "python",
   "pygments_lexer": "ipython3",
   "version": "3.11.4"
  }
 },
 "nbformat": 4,
 "nbformat_minor": 5
}
