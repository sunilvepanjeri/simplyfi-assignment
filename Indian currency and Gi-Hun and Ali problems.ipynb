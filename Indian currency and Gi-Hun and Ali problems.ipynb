{
 "cells": [
  {
   "cell_type": "code",
   "execution_count": 2,
   "id": "fadb074a",
   "metadata": {},
   "outputs": [
    {
     "name": "stdout",
     "output_type": "stream",
     "text": [
      "20000000000000000\n",
      "20,00,00,00,00,00,00,000\n"
     ]
    }
   ],
   "source": [
    "value=input()\n",
    "if len(value)<=3:\n",
    "    print(value)\n",
    "else:\n",
    "    currency=\"\"\n",
    "    a=\"\"\n",
    "    for i in range(len(value)-3):\n",
    "        a+=value[i]\n",
    "        if len(a)==2:\n",
    "            currency=currency+a+','\n",
    "            a=\"\"\n",
    "    currency+=value[-3:]\n",
    "print(currency)"
   ]
  },
  {
   "cell_type": "code",
   "execution_count": 5,
   "id": "f94a3712",
   "metadata": {},
   "outputs": [
    {
     "name": "stdout",
     "output_type": "stream",
     "text": [
      "3\n",
      "4 10\n",
      "2 13 4 16\n",
      "5 8\n",
      "9 3 8 8 4\n",
      "4 6\n",
      "1 2 3 4\n",
      "2\n",
      "1\n",
      "0\n"
     ]
    }
   ],
   "source": [
    "T=0\n",
    "outputs=[]\n",
    "while True:\n",
    "    T=int(input())\n",
    "    if T>=1 and T<=105:\n",
    "        break\n",
    "for i in range(T):\n",
    "    N,K=0,0\n",
    "    while True:\n",
    "        N,K=map(int,input().split())\n",
    "        if (N>=1 and N<=105) and (K>=1 and N<=106):\n",
    "            break\n",
    "    t=list(map(int,input().split()))\n",
    "    c=0\n",
    "    for r in t:\n",
    "        if r>K:\n",
    "            c+=1 \n",
    "    outputs.append(c)\n",
    "for i in outputs:\n",
    "    print(i)"
   ]
  },
  {
   "cell_type": "code",
   "execution_count": null,
   "id": "43a1f1ef",
   "metadata": {},
   "outputs": [],
   "source": []
  }
 ],
 "metadata": {
  "kernelspec": {
   "display_name": "Python 3 (ipykernel)",
   "language": "python",
   "name": "python3"
  },
  "language_info": {
   "codemirror_mode": {
    "name": "ipython",
    "version": 3
   },
   "file_extension": ".py",
   "mimetype": "text/x-python",
   "name": "python",
   "nbconvert_exporter": "python",
   "pygments_lexer": "ipython3",
   "version": "3.11.4"
  }
 },
 "nbformat": 4,
 "nbformat_minor": 5
}
